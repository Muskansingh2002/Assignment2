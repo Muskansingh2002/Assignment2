{
 "cells": [
  {
   "cell_type": "markdown",
   "id": "e7e58b55-b639-4221-b87b-ad3edbc1c314",
   "metadata": {},
   "source": [
    "Q1. How do you comment code in Python? What are the different types of comments?\n"
   ]
  },
  {
   "cell_type": "markdown",
   "id": "a9de6e6d-e96b-4a35-a17b-a117973bd29b",
   "metadata": {},
   "source": [
    "Ans. In Python, we can comment code using the '#' symbol for single-line comments or triple quotes ''' or \"\"\" for multi-line comments.\n",
    "     "
   ]
  },
  {
   "cell_type": "code",
   "execution_count": null,
   "id": "6296b0d4-9f2e-47a8-9dce-1c716cb38c1d",
   "metadata": {},
   "outputs": [],
   "source": []
  },
  {
   "cell_type": "markdown",
   "id": "d5789ef5-3d3e-4f93-879f-ed587fdf94ab",
   "metadata": {},
   "source": [
    "Q2. What are variables in Python? How do you declare and assign values to variables?"
   ]
  },
  {
   "cell_type": "markdown",
   "id": "d3e3c1fc-e176-4d6b-8513-9e6ef720a324",
   "metadata": {},
   "source": [
    "Ans. Variables are used to store data values. We can think of them as containers for storing information that can be referenced and            manipulated within a program.\n",
    "     To declare a variable in python, we simply choose a name for the variable and use the assignment operator '=' to assign a value to it ."
   ]
  },
  {
   "cell_type": "code",
   "execution_count": 7,
   "id": "686ba849-65a7-4ee6-b595-eacd8340367c",
   "metadata": {},
   "outputs": [
    {
     "name": "stdout",
     "output_type": "stream",
     "text": [
      "<class 'int'>\n",
      "<class 'str'>\n",
      "<class 'float'>\n",
      "<class 'bool'>\n"
     ]
    }
   ],
   "source": [
    "x=10\n",
    "name=\"Muskan\"\n",
    "pi_value=34.5\n",
    "is_valid=True\n",
    "\n",
    "print(type(x))\n",
    "print(type(name))\n",
    "print(type(pi_value))\n",
    "print(type(is_valid))\n"
   ]
  },
  {
   "cell_type": "code",
   "execution_count": null,
   "id": "ab92728e-430a-41fb-921f-c489dd2c69f7",
   "metadata": {},
   "outputs": [],
   "source": []
  },
  {
   "cell_type": "markdown",
   "id": "ec3b0417-af05-4d0d-8779-fef26af50b4a",
   "metadata": {},
   "source": [
    "Q3. How do you convert one data type to another in Python?"
   ]
  },
  {
   "cell_type": "markdown",
   "id": "524b86e7-c046-4dbc-88a2-e72daa3077ea",
   "metadata": {},
   "source": [
    "Ans. We can convert one data type to another using build-in-function."
   ]
  },
  {
   "cell_type": "code",
   "execution_count": 10,
   "id": "1837efa0-dbd9-415c-9293-53d0321bbff5",
   "metadata": {},
   "outputs": [],
   "source": [
    "num_str=\"88\"\n",
    "num_int=int(num_str)\n",
    "\n",
    "num_float=float(num_int)\n",
    "\n",
    "num_str_again=str(num_float)\n",
    "\n",
    "bool_str=\"True\"\n",
    "bool_value=bool(bool_str)"
   ]
  },
  {
   "cell_type": "code",
   "execution_count": null,
   "id": "312fffa7-28f1-4248-a94c-c8ddf06e2094",
   "metadata": {},
   "outputs": [],
   "source": []
  },
  {
   "cell_type": "markdown",
   "id": "6c7c8ec7-c811-49e7-89b9-6ec2ec8afe7c",
   "metadata": {},
   "source": [
    "Q4. How do you write and execute a Python script from the command line?"
   ]
  },
  {
   "cell_type": "markdown",
   "id": "b2ec65ed-e55c-49a6-8322-0e2875315092",
   "metadata": {},
   "source": [
    "Ans. Open a text editor such as Notepad,Sublime Text, VS Code, etc, to write python script. create a file named script.py and write the python code in it. and then save the file with a .py extension, for example, script.py. Open the terminal in our operating system and use the cd command to navigate to the directory where our python script is located. In the command line type python followed by the name of our python script file and press Enter. This command will run the python script, and we should see the output printed in the command line. "
   ]
  },
  {
   "cell_type": "code",
   "execution_count": null,
   "id": "1ad038c2-e59c-464f-8bf0-d504e8f134ae",
   "metadata": {},
   "outputs": [],
   "source": []
  },
  {
   "cell_type": "markdown",
   "id": "24052831-4864-4a75-b2a1-faa283633ca4",
   "metadata": {},
   "source": [
    "Q5. Given a list my_list = [1, 2, 3, 4, 5], write the code to slice the list and obtain the sub-list [2, 3].\n"
   ]
  },
  {
   "cell_type": "code",
   "execution_count": 11,
   "id": "43966fd8-a8af-4c83-af21-a5b6f7f264f0",
   "metadata": {},
   "outputs": [
    {
     "name": "stdout",
     "output_type": "stream",
     "text": [
      "[2, 3]\n"
     ]
    }
   ],
   "source": [
    "my_list=[1,2,3,4,5]\n",
    "sub_list=my_list[1:3]\n",
    "print(sub_list)"
   ]
  },
  {
   "cell_type": "code",
   "execution_count": null,
   "id": "0c3f5c6c-6e17-4bbe-875e-139d4b0175b2",
   "metadata": {},
   "outputs": [],
   "source": []
  },
  {
   "cell_type": "markdown",
   "id": "0b853498-0ce3-4cb1-86ba-e0cd611c803e",
   "metadata": {},
   "source": [
    "Q6. What is a complex number in mathematics, and how is it represented in Python?"
   ]
  },
  {
   "cell_type": "markdown",
   "id": "d5364d79-2343-4e12-ab61-5ddd373dae9f",
   "metadata": {},
   "source": [
    "Ans. In mathematics, a complex number is a number that can be expressed in the form a+bi, where 'a' and 'b' are real numbers, and i is the imaginary unit satisfying i^2 = -1.Here, 'a' is the real part, and 'bi' is the imaginary part of the complex numbetr.\n",
    "Complex numbers are represented using the 'complex' data type. They can be created by specifying the real and imaginary parts using the syntax 'a+bj', where 'a' is the real part and 'b' is the imaginary part. Note that 'j' is used to represent the imaginary unit in python, instead of 'i' ."
   ]
  },
  {
   "cell_type": "code",
   "execution_count": 19,
   "id": "8ef2e314-e433-4b18-aeff-cb8e500ded38",
   "metadata": {},
   "outputs": [
    {
     "name": "stdout",
     "output_type": "stream",
     "text": [
      "z1: (2+3j)\n",
      "z2: (4-5j)\n",
      "sum: (6-2j)\n"
     ]
    }
   ],
   "source": [
    "z1=2+3j\n",
    "z2=complex(4,-5)\n",
    "\n",
    "print(\"z1:\",z1)\n",
    "print(\"z2:\",z2)\n",
    "\n",
    "sum_complex=z1+z2\n",
    "print(\"sum:\",sum_complex)"
   ]
  },
  {
   "cell_type": "code",
   "execution_count": null,
   "id": "3b3acaba-f72a-44d1-a037-1734ed91bb5a",
   "metadata": {},
   "outputs": [],
   "source": []
  },
  {
   "cell_type": "markdown",
   "id": "7a86427d-7201-41c4-9161-38d35bd4f254",
   "metadata": {},
   "source": [
    "Q7. What is the correct way to declare a variable named age and assign the value 25 to it?"
   ]
  },
  {
   "cell_type": "code",
   "execution_count": 22,
   "id": "efadce97-0295-4d9c-848f-b75c79df4c82",
   "metadata": {},
   "outputs": [],
   "source": [
    "age=25"
   ]
  },
  {
   "cell_type": "code",
   "execution_count": null,
   "id": "2c58afbe-2d7e-485e-b8de-6b1d0939fbac",
   "metadata": {},
   "outputs": [],
   "source": []
  },
  {
   "cell_type": "markdown",
   "id": "3c577746-e1b9-414f-9083-da1bc44995b4",
   "metadata": {},
   "source": [
    "Q8. Declare a variable named price and assign the value 9.99 to it. What data type does this variable\n",
    "belong to?"
   ]
  },
  {
   "cell_type": "code",
   "execution_count": 24,
   "id": "ac1e8932-4ba2-4c65-b9d0-f5e0b5f9cd2e",
   "metadata": {},
   "outputs": [
    {
     "data": {
      "text/plain": [
       "float"
      ]
     },
     "execution_count": 24,
     "metadata": {},
     "output_type": "execute_result"
    }
   ],
   "source": [
    "price = 9.99\n",
    "type(price)"
   ]
  },
  {
   "cell_type": "code",
   "execution_count": null,
   "id": "cdfe718c-86d7-4891-9008-2271bd591e90",
   "metadata": {},
   "outputs": [],
   "source": []
  },
  {
   "cell_type": "markdown",
   "id": "f1b9efcc-8a7e-451a-8ceb-c672db9021e7",
   "metadata": {},
   "source": [
    "Q9. Create a variable named name and assign your full name to it as a string. How would you print the\n",
    "value of this variable?"
   ]
  },
  {
   "cell_type": "code",
   "execution_count": 25,
   "id": "58f2bc53-83f5-4db3-9506-dffb0b867f20",
   "metadata": {},
   "outputs": [
    {
     "name": "stdout",
     "output_type": "stream",
     "text": [
      "Muskan Singh\n"
     ]
    }
   ],
   "source": [
    "name = \"Muskan Singh\"\n",
    "print(name)"
   ]
  },
  {
   "cell_type": "code",
   "execution_count": null,
   "id": "5bded402-4187-4c72-91c2-7f1b57e2798d",
   "metadata": {},
   "outputs": [],
   "source": []
  },
  {
   "cell_type": "markdown",
   "id": "e44dccc5-9ed6-4ad3-8574-f2acc6cf3662",
   "metadata": {},
   "source": [
    "Q10. Given the string \"Hello, World!\", extract the substring \"World\"."
   ]
  },
  {
   "cell_type": "code",
   "execution_count": 26,
   "id": "9adf26a2-9988-40bd-9092-53053c2b328b",
   "metadata": {},
   "outputs": [
    {
     "name": "stdout",
     "output_type": "stream",
     "text": [
      "World\n"
     ]
    }
   ],
   "source": [
    "s = \"Hello, World!\"\n",
    "substring = s[7:12]\n",
    "print(substring)"
   ]
  },
  {
   "cell_type": "code",
   "execution_count": null,
   "id": "bad23fe8-459b-4715-8ab1-0095e48cd8ab",
   "metadata": {},
   "outputs": [],
   "source": []
  },
  {
   "cell_type": "markdown",
   "id": "cce7587b-2246-4149-84ef-b7c976f9bb6d",
   "metadata": {},
   "source": [
    "Q11. Create a variable named \"is_student\" and assign it a boolean value indicating whether you are\n",
    "currently a student or not."
   ]
  },
  {
   "cell_type": "code",
   "execution_count": null,
   "id": "f06cd248-42a4-4c11-8343-88ba0935849b",
   "metadata": {},
   "outputs": [],
   "source": [
    "is_student = True\n",
    "is_student"
   ]
  }
 ],
 "metadata": {
  "kernelspec": {
   "display_name": "Python 3 (ipykernel)",
   "language": "python",
   "name": "python3"
  },
  "language_info": {
   "codemirror_mode": {
    "name": "ipython",
    "version": 3
   },
   "file_extension": ".py",
   "mimetype": "text/x-python",
   "name": "python",
   "nbconvert_exporter": "python",
   "pygments_lexer": "ipython3",
   "version": "3.10.8"
  }
 },
 "nbformat": 4,
 "nbformat_minor": 5
}
